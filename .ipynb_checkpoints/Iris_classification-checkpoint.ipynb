{
 "cells": [
  {
   "cell_type": "code",
   "execution_count": 1,
   "metadata": {},
   "outputs": [],
   "source": [
    "import verta"
   ]
  },
  {
   "cell_type": "code",
   "execution_count": 8,
   "metadata": {},
   "outputs": [],
   "source": [
    "HOST = \"http://localhost:3000\"\n",
    "\n",
    "PROJECT_NAME = \"Iris-classifier\"\n",
    "EXPERIMENT_NAME = \"Experiment1\""
   ]
  },
  {
   "cell_type": "code",
   "execution_count": 3,
   "metadata": {},
   "outputs": [],
   "source": [
    "from __future__ import print_function\n",
    "\n",
    "import warnings\n",
    "from sklearn.exceptions import ConvergenceWarning\n",
    "warnings.filterwarnings(\"ignore\", category=ConvergenceWarning)\n",
    "warnings.filterwarnings(\"ignore\", category=FutureWarning)\n",
    "\n",
    "import itertools\n",
    "import os\n",
    "import time\n",
    "import wget\n",
    "import six\n",
    "\n",
    "import numpy as np\n",
    "import pandas as pd\n",
    "\n",
    "import sklearn\n",
    "from sklearn import model_selection\n",
    "from sklearn import linear_model\n",
    "from sklearn import metrics"
   ]
  },
  {
   "cell_type": "code",
   "execution_count": 9,
   "metadata": {},
   "outputs": [
    {
     "name": "stdout",
     "output_type": "stream",
     "text": [
      "connection successfully established\n",
      "got existing Project: Iris-classifier\n",
      "got existing Experiment: Experiment1\n"
     ]
    }
   ],
   "source": [
    "from verta import Client\n",
    "from verta.utils import ModelAPI\n",
    "\n",
    "client = Client(HOST)\n",
    "proj = client.set_project(PROJECT_NAME)\n",
    "expt = client.set_experiment(EXPERIMENT_NAME)"
   ]
  },
  {
   "cell_type": "code",
   "execution_count": 10,
   "metadata": {},
   "outputs": [
    {
     "name": "stdout",
     "output_type": "stream",
     "text": [
      "created new ExperimentRun: Run 21616032975786486053\n",
      "upload complete (custom_modules)\n",
      "upload complete (model.pkl)\n",
      "upload complete (model_api.json)\n",
      "upload complete (requirements.txt)\n"
     ]
    }
   ],
   "source": [
    "import numpy as np\n",
    "import os\n",
    "from sklearn.linear_model import LogisticRegression\n",
    "from sklearn.pipeline import Pipeline\n",
    "import joblib\n",
    "from sklearn import datasets\n",
    "from verta.utils import ModelAPI\n",
    "\n",
    "iris = datasets.load_iris()\n",
    "X, y = iris.data, iris.target\n",
    "model = linear_model.LogisticRegression()\n",
    "model.fit(X, y)\n",
    "\n",
    "model_api = ModelAPI(X, y)\n",
    "run = client.set_experiment_run()\n",
    "    # save and log model\n",
    "run.log_model(model, model_api=model_api)\n",
    "run.log_requirements([\"scikit-learn\"])"
   ]
  },
  {
   "cell_type": "code",
   "execution_count": 11,
   "metadata": {},
   "outputs": [
    {
     "name": "stdout",
     "output_type": "stream",
     "text": [
      "set existing Repository: Iris-classifier from personal workspace\n"
     ]
    }
   ],
   "source": [
    "repo = client.set_repository('Iris-classifier')\n",
    "commit = repo.get_commit(branch='master')"
   ]
  },
  {
   "cell_type": "code",
   "execution_count": 12,
   "metadata": {},
   "outputs": [
    {
     "name": "stdout",
     "output_type": "stream",
     "text": [
      "set existing Dataset: Iris-classifier from personal workspace\n"
     ]
    }
   ],
   "source": [
    "dataset = client.set_dataset(name=\"Iris-classifier\", type=\"local\")\n"
   ]
  },
  {
   "cell_type": "code",
   "execution_count": 13,
   "metadata": {},
   "outputs": [],
   "source": [
    "import pickle"
   ]
  },
  {
   "cell_type": "code",
   "execution_count": 14,
   "metadata": {},
   "outputs": [
    {
     "ename": "FileNotFoundError",
     "evalue": "[Errno 2] No such file or directory: 'trained_model.pkl'",
     "output_type": "error",
     "traceback": [
      "\u001b[0;31m---------------------------------------------------------------------------\u001b[0m",
      "\u001b[0;31mFileNotFoundError\u001b[0m                         Traceback (most recent call last)",
      "\u001b[0;32m<ipython-input-14-d60052267991>\u001b[0m in \u001b[0;36m<module>\u001b[0;34m\u001b[0m\n\u001b[1;32m      1\u001b[0m \u001b[0;31m# Load from file\u001b[0m\u001b[0;34m\u001b[0m\u001b[0;34m\u001b[0m\u001b[0;34m\u001b[0m\u001b[0m\n\u001b[0;32m----> 2\u001b[0;31m \u001b[0;32mwith\u001b[0m \u001b[0mopen\u001b[0m\u001b[0;34m(\u001b[0m\u001b[0;34m'trained_model.pkl'\u001b[0m\u001b[0;34m,\u001b[0m \u001b[0;34m'rb'\u001b[0m\u001b[0;34m)\u001b[0m \u001b[0;32mas\u001b[0m \u001b[0mfile\u001b[0m\u001b[0;34m:\u001b[0m\u001b[0;34m\u001b[0m\u001b[0;34m\u001b[0m\u001b[0m\n\u001b[0m\u001b[1;32m      3\u001b[0m     \u001b[0mpickle_model\u001b[0m \u001b[0;34m=\u001b[0m \u001b[0mpickle\u001b[0m\u001b[0;34m.\u001b[0m\u001b[0mload\u001b[0m\u001b[0;34m(\u001b[0m\u001b[0mfile\u001b[0m\u001b[0;34m)\u001b[0m\u001b[0;34m\u001b[0m\u001b[0;34m\u001b[0m\u001b[0m\n\u001b[1;32m      4\u001b[0m \u001b[0;34m\u001b[0m\u001b[0m\n\u001b[1;32m      5\u001b[0m \u001b[0;31m# Calculate the accuracy score and predict target values\u001b[0m\u001b[0;34m\u001b[0m\u001b[0;34m\u001b[0m\u001b[0;34m\u001b[0m\u001b[0m\n",
      "\u001b[0;31mFileNotFoundError\u001b[0m: [Errno 2] No such file or directory: 'trained_model.pkl'"
     ]
    }
   ],
   "source": [
    "\n",
    "\n",
    "# Load from file\n",
    "with open('trained_model.pkl', 'rb') as file:\n",
    "    pickle_model = pickle.load(file)\n",
    "    \n",
    "# Calculate the accuracy score and predict target values\n",
    "# score = pickle_model.score(Xtest, Ytest)\n",
    "# print(\"Test score: {0:.2f} %\".format(100 * score))\n",
    "Ypredict = pickle_model.predict([[1,2,3,4]])\n",
    "Ypredict"
   ]
  },
  {
   "cell_type": "code",
   "execution_count": 15,
   "metadata": {},
   "outputs": [
    {
     "data": {
      "application/javascript": [
       "\n",
       "    require([\"base/js/namespace\"],function(Jupyter) {\n",
       "        Jupyter.notebook.save_checkpoint();\n",
       "    });\n",
       "    "
      ],
      "text/plain": [
       "<IPython.core.display.Javascript object>"
      ]
     },
     "metadata": {},
     "output_type": "display_data"
    }
   ],
   "source": [
    "from verta.code import Notebook\n",
    "code_version = Notebook()"
   ]
  },
  {
   "cell_type": "code",
   "execution_count": 16,
   "metadata": {},
   "outputs": [
    {
     "data": {
      "text/plain": [
       "Notebook Version\n",
       "    Iris_classification.ipynb\n",
       "        15098 bytes\n",
       "        last modified: 2020-10-21 21:56:47.712000\n",
       "        MD5 checksum: 03a7dfd1d18e7f80234202e280909c39\n",
       "    Git Version\n",
       "        dirty commit 50763abf8b426394442681a3df79b09c6e8d436e\n",
       "        on branch master\n",
       "        in repo https://github.com/adhikari23/sample.git"
      ]
     },
     "execution_count": 16,
     "metadata": {},
     "output_type": "execute_result"
    }
   ],
   "source": [
    "code_version"
   ]
  },
  {
   "cell_type": "code",
   "execution_count": 17,
   "metadata": {},
   "outputs": [],
   "source": [
    "commit.update('code', code_version)\n",
    "commit.save(\"Capture git details\")"
   ]
  },
  {
   "cell_type": "code",
   "execution_count": 18,
   "metadata": {},
   "outputs": [],
   "source": [
    "from verta.environment import Python\n",
    "env_ver = Python(Python.read_pip_environment())"
   ]
  },
  {
   "cell_type": "code",
   "execution_count": 21,
   "metadata": {},
   "outputs": [
    {
     "data": {
      "text/plain": [
       "Python Version\n",
       "    Python 3.8.2\n",
       "    requirements:\n",
       "        Automat==0.8.0\n",
       "        Click==7.0.0\n",
       "        Jinja2==2.10.1\n",
       "        Keras-Preprocessing==1.1.2\n",
       "        Markdown==3.2.2\n",
       "        MarkupSafe==1.1.0\n",
       "        Pillow==7.2.0\n",
       "        PyGObject==3.36.0\n",
       "        PyHamcrest==1.9.0\n",
       "        PyJWT==1.7.1\n",
       "        PyNaCl==1.3.0\n",
       "        PyYAML==5.3.1\n",
       "        Pygments==2.7.1\n",
       "        QtPy==1.9.0\n",
       "        SecretStorage==2.3.1\n",
       "        Send2Trash==1.5.0\n",
       "        Twisted==18.9.0\n",
       "        Werkzeug==1.0.1\n",
       "        absl-py==0.10.0\n",
       "        aiohttp==3.6.2\n",
       "        appdirs==1.4.3\n",
       "        argon2-cffi==20.1.0\n",
       "        astunparse==1.6.3\n",
       "        async-generator==1.10.0\n",
       "        async-timeout==3.0.1\n",
       "        attrs==19.3.0\n",
       "        backcall==0.2.0\n",
       "        beautifulsoup4==4.9.3\n",
       "        bleach==3.2.1\n",
       "        blinker==1.4.0\n",
       "        cachetools==4.1.1\n",
       "        certifi==2020.6.20\n",
       "        cffi==1.14.3\n",
       "        chardet==3.0.4\n",
       "        cloud-init==20.1.0\n",
       "        cloudpickle==1.6.0\n",
       "        colorama==0.4.3\n",
       "        command-not-found==0.3.0\n",
       "        configobj==5.0.6\n",
       "        constantly==15.1.0\n",
       "        cryptography==2.8.0\n",
       "        cycler==0.10.0\n",
       "        dbus-python==1.2.16\n",
       "        decorator==4.4.2\n",
       "        defusedxml==0.6.0\n",
       "        dill==0.3.2\n",
       "        distlib==0.3.0\n",
       "        distro==1.4.0\n",
       "        distro-info===0.23.0ubuntu1\n",
       "        entrypoints==0.3.0\n",
       "        filelock==3.0.12\n",
       "        future==0.18.2\n",
       "        gast==0.3.3\n",
       "        google-auth==1.22.0\n",
       "        google-auth-oauthlib==0.4.1\n",
       "        google-pasta==0.2.0\n",
       "        googleapis-common-protos==1.52.0\n",
       "        grpcio==1.32.0\n",
       "        h5py==2.10.0\n",
       "        html5lib==1.0.1\n",
       "        httplib2==0.14.0\n",
       "        hyperlink==19.0.0\n",
       "        idna==2.8.0\n",
       "        importlib-metadata==1.5.0\n",
       "        incremental==16.10.1\n",
       "        ipykernel==5.3.4\n",
       "        ipython==7.18.1\n",
       "        ipython-genutils==0.2.0\n",
       "        ipywidgets==7.5.1\n",
       "        jedi==0.17.2\n",
       "        joblib==0.16.0\n",
       "        jsonpatch==1.22.0\n",
       "        jsonpointer==2.0.0\n",
       "        jsonschema==3.2.0\n",
       "        jupyter==1.0.0\n",
       "        jupyter-client==6.1.7\n",
       "        jupyter-console==6.2.0\n",
       "        jupyter-core==4.6.3\n",
       "        jupyterlab-pygments==0.1.2\n",
       "        keyring==18.0.1\n",
       "        kiwisolver==1.2.0\n",
       "        language-selector==0.1.0\n",
       "        launchpadlib==1.10.13\n",
       "        lazr.restfulclient==0.14.2\n",
       "        lazr.uri==1.0.3\n",
       "        lxml==4.5.2\n",
       "        matplotlib==3.3.2\n",
       "        mistune==0.8.4\n",
       "        more-itertools==4.2.0\n",
       "        multidict==4.7.6\n",
       "        nbclient==0.5.0\n",
       "        nbconvert==6.0.6\n",
       "        nbformat==5.0.7\n",
       "        nest-asyncio==1.4.1\n",
       "        netifaces==0.10.4\n",
       "        notebook==6.1.4\n",
       "        numpy==1.18.5\n",
       "        oauthlib==3.1.0\n",
       "        opt-einsum==3.3.0\n",
       "        packaging==20.4.0\n",
       "        pandas==1.1.2\n",
       "        pandocfilters==1.4.2\n",
       "        parso==0.7.1\n",
       "        pathlib2==2.3.5\n",
       "        pexpect==4.8.0\n",
       "        pickle5==0.0.11\n",
       "        pickleshare==0.7.5\n",
       "        prometheus-client==0.8.0\n",
       "        promise==2.3.0\n",
       "        prompt-toolkit==3.0.7\n",
       "        protobuf==3.13.0\n",
       "        psutil==5.7.2\n",
       "        ptyprocess==0.6.0\n",
       "        pyOpenSSL==19.0.0\n",
       "        pyasn1==0.4.2\n",
       "        pyasn1-modules==0.2.1\n",
       "        pycparser==2.20.0\n",
       "        pymacaroons==0.13.0\n",
       "        pyparsing==2.4.7\n",
       "        pyrsistent==0.15.5\n",
       "        pyserial==3.4.0\n",
       "        python-apt==2.0.0\n",
       "        python-dateutil==2.8.1\n",
       "        python-debian===0.1.36ubuntu1\n",
       "        pytz==2020.1.0\n",
       "        pyzmq==19.0.2\n",
       "        qtconsole==4.7.7\n",
       "        requests==2.22.0\n",
       "        requests-oauthlib==1.3.0\n",
       "        requests-unixsocket==0.2.0\n",
       "        rsa==4.6.0\n",
       "        scikit-learn==0.23.2\n",
       "        scipy==1.5.2\n",
       "        service-identity==18.1.0\n",
       "        simplejson==3.16.0\n",
       "        six==1.14.0\n",
       "        sklearn==0.0.0\n",
       "        soupsieve==2.0.1\n",
       "        ssh-import-id==5.10.0\n",
       "        systemd-python==234.0.0\n",
       "        tensorboard==2.3.0\n",
       "        tensorboard-plugin-wit==1.7.0\n",
       "        tensorflow==2.3.1\n",
       "        tensorflow-datasets==1.0.2\n",
       "        tensorflow-estimator==2.3.0\n",
       "        tensorflow-hub==0.5.0\n",
       "        tensorflow-metadata==0.24.0\n",
       "        termcolor==1.1.0\n",
       "        terminado==0.9.1\n",
       "        testpath==0.4.4\n",
       "        threadpoolctl==2.1.0\n",
       "        torch==1.6.0\n",
       "        tornado==6.0.4\n",
       "        tqdm==4.50.0\n",
       "        traitlets==4.3.3\n",
       "        ubuntu-advantage-tools==20.3.0\n",
       "        ufw==0.36.0\n",
       "        unattended-upgrades==0.1.0\n",
       "        urllib3==1.25.8\n",
       "        verta==0.15.4\n",
       "        virtualenv==20.0.17\n",
       "        wadllib==1.3.3\n",
       "        wcwidth==0.2.5\n",
       "        webencodings==0.5.1\n",
       "        wget==3.2.0\n",
       "        widgetsnbextension==3.5.1\n",
       "        wrapt==1.12.1\n",
       "        yarl==1.6.0\n",
       "        zipp==1.0.0\n",
       "        zope.interface==4.7.1"
      ]
     },
     "execution_count": 21,
     "metadata": {},
     "output_type": "execute_result"
    }
   ],
   "source": [
    "env_ver"
   ]
  },
  {
   "cell_type": "code",
   "execution_count": 19,
   "metadata": {},
   "outputs": [],
   "source": [
    "commit.update(\"env/python\", env_ver)"
   ]
  },
  {
   "cell_type": "code",
   "execution_count": null,
   "metadata": {},
   "outputs": [
    {
     "data": {
      "application/javascript": [
       "\n",
       "    require([\"base/js/namespace\"],function(Jupyter) {\n",
       "        Jupyter.notebook.save_checkpoint();\n",
       "    });\n",
       "    "
      ],
      "text/plain": [
       "<IPython.core.display.Javascript object>"
      ]
     },
     "metadata": {},
     "output_type": "display_data"
    }
   ],
   "source": [
    "from verta.code import Notebook\n",
    "code1 = Notebook()\n",
    "code2 = Notebook(\"Iris_Classification.ipynb\")"
   ]
  },
  {
   "cell_type": "code",
   "execution_count": null,
   "metadata": {},
   "outputs": [],
   "source": []
  }
 ],
 "metadata": {
  "kernelspec": {
   "display_name": "Python 3",
   "language": "python",
   "name": "python3"
  },
  "language_info": {
   "codemirror_mode": {
    "name": "ipython",
    "version": 3
   },
   "file_extension": ".py",
   "mimetype": "text/x-python",
   "name": "python",
   "nbconvert_exporter": "python",
   "pygments_lexer": "ipython3",
   "version": "3.8.2"
  }
 },
 "nbformat": 4,
 "nbformat_minor": 4
}
